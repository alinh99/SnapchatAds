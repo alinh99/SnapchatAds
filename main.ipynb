{
 "cells": [
  {
   "cell_type": "code",
   "execution_count": 3,
   "metadata": {},
   "outputs": [],
   "source": [
    "import json\n",
    "from requests_oauthlib import OAuth2Session\n",
    "import requests\n",
    "import pandas as pd\n",
    "from get_data import get_campaigns, get_adsquads"
   ]
  },
  {
   "cell_type": "markdown",
   "metadata": {},
   "source": [
    "# 0 - Import your credentials"
   ]
  },
  {
   "cell_type": "code",
   "execution_count": 17,
   "metadata": {},
   "outputs": [
    {
     "data": {
      "text/plain": [
       "{'client_id': 'a8aaf469-e9d3-47db-a076-c2eab2c64ffc',\n",
       " 'client_secret': '425b78a022260dbd31a1',\n",
       " 'redirect_url': 'https://www.paloceras.com',\n",
       " 'ad_account_id': 'c4d11bf0-981f-4365-a07b-90bc3c9c900e'}"
      ]
     },
     "execution_count": 17,
     "metadata": {},
     "output_type": "execute_result"
    }
   ],
   "source": [
    "with open(\"snapchat_credentials.json\", \"r\") as f:\n",
    "    snap_credentials = json.load(f)\n",
    "snap_credentials"
   ]
  },
  {
   "cell_type": "markdown",
   "metadata": {},
   "source": [
    "# 1 - Generate access token from client_ID and client_secret"
   ]
  },
  {
   "cell_type": "code",
   "execution_count": 18,
   "metadata": {},
   "outputs": [],
   "source": [
    "scope = [\"snapchat-marketing-api\"]\n",
    "authorize_url = \"https://accounts.snapchat.com/login/oauth2/authorize\"\n",
    "access_token_url = \"https://accounts.snapchat.com/login/oauth2/access_token\"\n",
    "protected_url = \"https://adsapi.snapchat.com/v1/me/organizations\""
   ]
  },
  {
   "cell_type": "code",
   "execution_count": 19,
   "metadata": {},
   "outputs": [],
   "source": [
    "oauth = OAuth2Session(\n",
    "    snap_credentials[\"client_id\"],\n",
    "    redirect_uri=snap_credentials[\"redirect_url\"],\n",
    "    scope=scope,\n",
    ")"
   ]
  },
  {
   "cell_type": "code",
   "execution_count": 20,
   "metadata": {},
   "outputs": [
    {
     "name": "stdout",
     "output_type": "stream",
     "text": [
      "Please go to https://accounts.snapchat.com/login/oauth2/authorize?response_type=code&client_id=a8aaf469-e9d3-47db-a076-c2eab2c64ffc&redirect_uri=https%3A%2F%2Fwww.paloceras.com&scope=snapchat-marketing-api&state=WcawDUsMtPYJZG5pN6TvSzHtoCq3bm and authorize access.\n"
     ]
    }
   ],
   "source": [
    "authorization_url, state = oauth.authorization_url(authorize_url)\n",
    "print(\"Please go to %s and authorize access.\" % authorization_url)"
   ]
  },
  {
   "cell_type": "code",
   "execution_count": 21,
   "metadata": {},
   "outputs": [],
   "source": [
    "authorization_response = input(\"Enter the full callback URL: \")\n",
    "# input a full link after click on \"Continue\" button in authorization_url"
   ]
  },
  {
   "cell_type": "code",
   "execution_count": 22,
   "metadata": {},
   "outputs": [],
   "source": [
    "token = oauth.fetch_token(\n",
    "    access_token_url,\n",
    "    authorization_response=authorization_response,\n",
    "    client_secret=snap_credentials[\"client_secret\"],\n",
    "    scope=scope,\n",
    ")"
   ]
  },
  {
   "cell_type": "code",
   "execution_count": 23,
   "metadata": {},
   "outputs": [],
   "source": [
    "snap_credentials[\"access_token\"] = oauth.token[\"access_token\"]\n",
    "snap_credentials[\"refresh_token\"] = oauth.token[\"refresh_token\"]"
   ]
  },
  {
   "cell_type": "markdown",
   "metadata": {},
   "source": [
    "# 2 - Generate access token from refresh_token"
   ]
  },
  {
   "cell_type": "code",
   "execution_count": 24,
   "metadata": {},
   "outputs": [],
   "source": [
    "access_params = {\n",
    "    \"client_id\": snap_credentials[\"client_id\"],\n",
    "    \"client_secret\": snap_credentials[\"client_secret\"],\n",
    "    \"code\": snap_credentials[\"refresh_token\"],  # Get it in first step in redirect URL\n",
    "    \"grant_type\": \"refresh_token\",\n",
    "}"
   ]
  },
  {
   "cell_type": "code",
   "execution_count": 25,
   "metadata": {},
   "outputs": [],
   "source": [
    "res = requests.post(access_token_url, params=access_params)"
   ]
  },
  {
   "cell_type": "code",
   "execution_count": 26,
   "metadata": {},
   "outputs": [
    {
     "data": {
      "text/plain": [
       "{'client_id': 'a8aaf469-e9d3-47db-a076-c2eab2c64ffc',\n",
       " 'client_secret': '425b78a022260dbd31a1',\n",
       " 'redirect_url': 'https://www.paloceras.com',\n",
       " 'ad_account_id': 'c4d11bf0-981f-4365-a07b-90bc3c9c900e',\n",
       " 'access_token': 'eyJpc3MiOiJodHRwczpcL1wvYWNjb3VudHMuc25hcGNoYXQuY29tXC9hY2NvdW50c1wvb2F1dGgyXC90b2tlbiIsInR5cCI6IkpXVCIsImVuYyI6IkExMjhDQkMtSFMyNTYiLCJhbGciOiJkaXIiLCJraWQiOiJhY2Nlc3MtdG9rZW4tYTEyOGNiYy1oczI1Ni4wIn0..UWxR-BUDdN3Gv5EP3aPLuA.dLygzoQ9s5GNWHL80mjUI9f_-e7O7mo_fBOjB8_hIxrj-PG0Ly65f9cgm3lXgj78CQcjw68hEjoswyk3N0aq90SkWAIiYLB17WbnouFFkFTEsnlhI2JLGsXQUc9ihzOBI7BXisrmThhKZw4dstgiSxv0O2vpMrTtSdGxgaIm6hExu4GwUIsPd1F4NdD60xsLI9q3ytaG5ejQb9ASpCSf_fN4EvaZljIk0jUhcDzC4zTjMeNRuNshU5ZZkTmxXvxYkJoE7NHQnWkcPjS0IMoH4I_msXJYruZMjY6mmPN813oZjgidFLZApbK9YgDktcfYOLJCQfO6yakp1nrXlRS9pFKE4U_MBXDDNDVikPvYtoFT78IxyeF7aoNpXDu0HRtVJUBvaA70ZXtTkL1zYJH8W03Qj3YH3DaERVDuFtCxQcAtXDG3EAiMeCo-eP6mB1yJrDEwqJ-tIrfpSe4DfisujRU13RBBvEdKo9fvijRm1vBWmtQa1L0a0PRcro_onKfpYXvqcFYeqEg_shZZjkbkVxR0fVvfPVmFYm6HI0PhM_qZsnGjRy9Z-JP0ksPRiSe3kohRSKuAAWlvoJpE9w1Gxe2tcTcgivjLAuSnXccaF2Iy1ON-t9a3LzPAjK4JBr5Ab8A_IpmTEb1Yibcr-bPZjENlyCfZfoORD2L2ga3gtvNCIbF3IHBF0exIQlACHHeln2VEXvOpqQuApefzItfPDa0-SnGoV49bmVjAbAwQRQU.fQrgrLAYQnBplZfYI63Xsw',\n",
       " 'refresh_token': 'hCgwKCjE3MDc3NjA4MTQSpQHAe1k7TAAaEoOhG_HFO27kRP5wXR6zaQOcZcGc9kdQsrwMkzhNr_nwfSU7tJm42DeCLevFMn3bgan4MfLBuUJF85X_nR6IytcaL-N-eqXe0cwtUYoBF1JrwaiMKw-nTnRX4VHbJpLu_hPfTOysW3_9IweD0fdqg0ZagtrD3cWSfnK54qO40NvtbNrKZwsdBvlwmHicgfMzpP_IypxlY1PkuDkohyk'}"
      ]
     },
     "execution_count": 26,
     "metadata": {},
     "output_type": "execute_result"
    }
   ],
   "source": [
    "snap_credentials[\"access_token\"] = res.json()[\"access_token\"]\n",
    "snap_credentials[\"refresh_token\"] = res.json()[\"refresh_token\"]\n",
    "snap_credentials"
   ]
  },
  {
   "cell_type": "markdown",
   "metadata": {},
   "source": [
    "# 3 - Get Snapchat Ads data"
   ]
  },
  {
   "cell_type": "code",
   "execution_count": 29,
   "metadata": {},
   "outputs": [
    {
     "data": {
      "text/html": [
       "<div>\n",
       "<style scoped>\n",
       "    .dataframe tbody tr th:only-of-type {\n",
       "        vertical-align: middle;\n",
       "    }\n",
       "\n",
       "    .dataframe tbody tr th {\n",
       "        vertical-align: top;\n",
       "    }\n",
       "\n",
       "    .dataframe thead th {\n",
       "        text-align: right;\n",
       "    }\n",
       "</style>\n",
       "<table border=\"1\" class=\"dataframe\">\n",
       "  <thead>\n",
       "    <tr style=\"text-align: right;\">\n",
       "      <th></th>\n",
       "      <th>Campaign ID</th>\n",
       "      <th>Campaign Name</th>\n",
       "      <th>Date</th>\n",
       "      <th>Impressions</th>\n",
       "      <th>Swipes</th>\n",
       "      <th>Amount Spent</th>\n",
       "      <th>Paid Impressions</th>\n",
       "      <th>Click Rate</th>\n",
       "      <th>Adset Name</th>\n",
       "    </tr>\n",
       "  </thead>\n",
       "  <tbody>\n",
       "    <tr>\n",
       "      <th>0</th>\n",
       "      <td>13ebf7c9-d80f-4743-aa82-00be44d40f6c</td>\n",
       "      <td>Fake Data</td>\n",
       "      <td>2024-04-02T02:05:49.791Z</td>\n",
       "      <td>0</td>\n",
       "      <td>0</td>\n",
       "      <td>0</td>\n",
       "      <td>0</td>\n",
       "      <td>0</td>\n",
       "      <td>Finland, All Genders, All Ages</td>\n",
       "    </tr>\n",
       "    <tr>\n",
       "      <th>1</th>\n",
       "      <td>c8bdafad-3771-4dd4-b399-5b79b92875fe</td>\n",
       "      <td>Website Conversions</td>\n",
       "      <td>2024-04-01T14:51:58.783Z</td>\n",
       "      <td>0</td>\n",
       "      <td>0</td>\n",
       "      <td>0</td>\n",
       "      <td>0</td>\n",
       "      <td>0</td>\n",
       "      <td>Finland, All Genders, All Ages - Test</td>\n",
       "    </tr>\n",
       "    <tr>\n",
       "      <th>2</th>\n",
       "      <td>c8bdafad-3771-4dd4-b399-5b79b92875fe</td>\n",
       "      <td>Website Conversions</td>\n",
       "      <td>2024-04-01T14:51:58.783Z</td>\n",
       "      <td>0</td>\n",
       "      <td>0</td>\n",
       "      <td>0</td>\n",
       "      <td>0</td>\n",
       "      <td>0</td>\n",
       "      <td>Finland, All Genders, All Ages - Test2</td>\n",
       "    </tr>\n",
       "  </tbody>\n",
       "</table>\n",
       "</div>"
      ],
      "text/plain": [
       "                            Campaign ID        Campaign Name  \\\n",
       "0  13ebf7c9-d80f-4743-aa82-00be44d40f6c            Fake Data   \n",
       "1  c8bdafad-3771-4dd4-b399-5b79b92875fe  Website Conversions   \n",
       "2  c8bdafad-3771-4dd4-b399-5b79b92875fe  Website Conversions   \n",
       "\n",
       "                       Date  Impressions  Swipes  Amount Spent  \\\n",
       "0  2024-04-02T02:05:49.791Z            0       0             0   \n",
       "1  2024-04-01T14:51:58.783Z            0       0             0   \n",
       "2  2024-04-01T14:51:58.783Z            0       0             0   \n",
       "\n",
       "   Paid Impressions  Click Rate                              Adset Name  \n",
       "0                 0           0          Finland, All Genders, All Ages  \n",
       "1                 0           0   Finland, All Genders, All Ages - Test  \n",
       "2                 0           0  Finland, All Genders, All Ages - Test2  "
      ]
     },
     "execution_count": 29,
     "metadata": {},
     "output_type": "execute_result"
    }
   ],
   "source": [
    "adsquad_metrics = get_adsquads(\n",
    "    snap_credentials[\"ad_account_id\"], snap_credentials[\"access_token\"]\n",
    ")\n",
    "adsquads = adsquad_metrics[\"adsquads\"]\n",
    "\n",
    "campaign_metrics = get_campaigns(\n",
    "    snap_credentials[\"ad_account_id\"], snap_credentials[\"access_token\"]\n",
    ")\n",
    "campaigns = campaign_metrics[\"campaigns\"]\n",
    "\n",
    "data = []\n",
    "\n",
    "for cam in campaigns:\n",
    "    campaign_id = cam[\"campaign\"][\"id\"]\n",
    "    campaign_name = cam[\"campaign\"][\"name\"]\n",
    "    time = cam[\"campaign\"][\"start_time\"]\n",
    "\n",
    "    matching_adsquads = [\n",
    "        adsquad\n",
    "        for adsquad in adsquads\n",
    "        if adsquad[\"adsquad\"][\"campaign_id\"] == campaign_id\n",
    "    ]\n",
    "\n",
    "    for adsquad in matching_adsquads:\n",
    "        adsquad_name = adsquad[\"adsquad\"][\"name\"]\n",
    "\n",
    "        if not \"total_stats\" in cam:\n",
    "            cam[\"total_stats\"] = [\n",
    "                {\n",
    "                    \"total_stat\": {\n",
    "                        \"stats\": {\n",
    "                            \"impressions\": 0,\n",
    "                            \"swipes\": 0,\n",
    "                            \"spend\": 0,\n",
    "                            \"paid_impressions\": 0,\n",
    "                            \"video_views\": 0,\n",
    "                            \"conversion_ad_click\": 0,\n",
    "                            \"conversion_rate\": 0,\n",
    "                        }\n",
    "                    }\n",
    "                }\n",
    "            ]\n",
    "\n",
    "        total_stat = cam[\"total_stats\"][0][\"total_stat\"][\"stats\"]\n",
    "\n",
    "        # Append data to list\n",
    "        data.append(\n",
    "            {\n",
    "                \"Campaign ID\": campaign_id,\n",
    "                \"Campaign Name\": campaign_name,\n",
    "                \"Date\": time,\n",
    "                \"Impressions\": total_stat[\"impressions\"],\n",
    "                \"Swipes\": total_stat[\"swipes\"],\n",
    "                \"Amount Spent\": total_stat[\"spend\"],\n",
    "                \"Paid Impressions\": total_stat[\"paid_impressions\"],\n",
    "                \"Click Rate\": total_stat[\"conversion_rate\"],\n",
    "                \"Adset Name\": adsquad_name,\n",
    "            }\n",
    "        )"
   ]
  },
  {
   "cell_type": "markdown",
   "metadata": {},
   "source": [
    "# 4 - Display the data in table"
   ]
  },
  {
   "cell_type": "code",
   "execution_count": null,
   "metadata": {},
   "outputs": [],
   "source": [
    "df = pd.DataFrame(data)\n",
    "df"
   ]
  }
 ],
 "metadata": {
  "kernelspec": {
   "display_name": "base",
   "language": "python",
   "name": "python3"
  },
  "language_info": {
   "codemirror_mode": {
    "name": "ipython",
    "version": 3
   },
   "file_extension": ".py",
   "mimetype": "text/x-python",
   "name": "python",
   "nbconvert_exporter": "python",
   "pygments_lexer": "ipython3",
   "version": "3.10.13"
  }
 },
 "nbformat": 4,
 "nbformat_minor": 2
}
